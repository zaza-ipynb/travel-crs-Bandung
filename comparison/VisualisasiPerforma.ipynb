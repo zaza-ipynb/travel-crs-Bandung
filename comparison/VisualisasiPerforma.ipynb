{
 "cells": [
  {
   "cell_type": "code",
   "execution_count": 2,
   "metadata": {},
   "outputs": [],
   "source": [
    "import matplotlib\n",
    "import matplotlib.pyplot as plt\n",
    "import pandas as pd\n",
    "import random\n",
    "import sys"
   ]
  },
  {
   "cell_type": "code",
   "execution_count": 6,
   "metadata": {},
   "outputs": [
    {
     "data": {
      "text/html": [
       "<div>\n",
       "<style scoped>\n",
       "    .dataframe tbody tr th:only-of-type {\n",
       "        vertical-align: middle;\n",
       "    }\n",
       "\n",
       "    .dataframe tbody tr th {\n",
       "        vertical-align: top;\n",
       "    }\n",
       "\n",
       "    .dataframe thead th {\n",
       "        text-align: right;\n",
       "    }\n",
       "</style>\n",
       "<table border=\"1\" class=\"dataframe\">\n",
       "  <thead>\n",
       "    <tr style=\"text-align: right;\">\n",
       "      <th></th>\n",
       "      <th>No.</th>\n",
       "      <th>Time</th>\n",
       "      <th>Fitness</th>\n",
       "      <th>Node</th>\n",
       "    </tr>\n",
       "  </thead>\n",
       "  <tbody>\n",
       "    <tr>\n",
       "      <th>0</th>\n",
       "      <td>1</td>\n",
       "      <td>0.83</td>\n",
       "      <td>0.72</td>\n",
       "      <td>12</td>\n",
       "    </tr>\n",
       "    <tr>\n",
       "      <th>1</th>\n",
       "      <td>2</td>\n",
       "      <td>0.87</td>\n",
       "      <td>0.70</td>\n",
       "      <td>12</td>\n",
       "    </tr>\n",
       "    <tr>\n",
       "      <th>2</th>\n",
       "      <td>3</td>\n",
       "      <td>0.79</td>\n",
       "      <td>0.68</td>\n",
       "      <td>13</td>\n",
       "    </tr>\n",
       "    <tr>\n",
       "      <th>3</th>\n",
       "      <td>4</td>\n",
       "      <td>7.04</td>\n",
       "      <td>0.71</td>\n",
       "      <td>12</td>\n",
       "    </tr>\n",
       "    <tr>\n",
       "      <th>4</th>\n",
       "      <td>5</td>\n",
       "      <td>4.81</td>\n",
       "      <td>0.71</td>\n",
       "      <td>12</td>\n",
       "    </tr>\n",
       "  </tbody>\n",
       "</table>\n",
       "</div>"
      ],
      "text/plain": [
       "   No.  Time  Fitness  Node\n",
       "0    1  0.83     0.72    12\n",
       "1    2  0.87     0.70    12\n",
       "2    3  0.79     0.68    13\n",
       "3    4  7.04     0.71    12\n",
       "4    5  4.81     0.71    12"
      ]
     },
     "execution_count": 6,
     "metadata": {},
     "output_type": "execute_result"
    }
   ],
   "source": [
    "data_cuckoo = pd.read_csv(\"cuckootesting.txt\", sep=\"\\t\", usecols=['No.','Time','Fitness','Node'])\n",
    "data_cuckoo.head()"
   ]
  },
  {
   "cell_type": "code",
   "execution_count": 9,
   "metadata": {},
   "outputs": [
    {
     "data": {
      "text/html": [
       "<div>\n",
       "<style scoped>\n",
       "    .dataframe tbody tr th:only-of-type {\n",
       "        vertical-align: middle;\n",
       "    }\n",
       "\n",
       "    .dataframe tbody tr th {\n",
       "        vertical-align: top;\n",
       "    }\n",
       "\n",
       "    .dataframe thead th {\n",
       "        text-align: right;\n",
       "    }\n",
       "</style>\n",
       "<table border=\"1\" class=\"dataframe\">\n",
       "  <thead>\n",
       "    <tr style=\"text-align: right;\">\n",
       "      <th></th>\n",
       "      <th>No.</th>\n",
       "      <th>Time</th>\n",
       "      <th>Fitness</th>\n",
       "      <th>Node</th>\n",
       "    </tr>\n",
       "  </thead>\n",
       "  <tbody>\n",
       "    <tr>\n",
       "      <th>0</th>\n",
       "      <td>1</td>\n",
       "      <td>21.50</td>\n",
       "      <td>0.48</td>\n",
       "      <td>13</td>\n",
       "    </tr>\n",
       "    <tr>\n",
       "      <th>1</th>\n",
       "      <td>2</td>\n",
       "      <td>19.50</td>\n",
       "      <td>0.51</td>\n",
       "      <td>14</td>\n",
       "    </tr>\n",
       "    <tr>\n",
       "      <th>2</th>\n",
       "      <td>3</td>\n",
       "      <td>17.48</td>\n",
       "      <td>0.50</td>\n",
       "      <td>12</td>\n",
       "    </tr>\n",
       "    <tr>\n",
       "      <th>3</th>\n",
       "      <td>4</td>\n",
       "      <td>19.56</td>\n",
       "      <td>0.50</td>\n",
       "      <td>14</td>\n",
       "    </tr>\n",
       "    <tr>\n",
       "      <th>4</th>\n",
       "      <td>5</td>\n",
       "      <td>20.93</td>\n",
       "      <td>0.54</td>\n",
       "      <td>14</td>\n",
       "    </tr>\n",
       "  </tbody>\n",
       "</table>\n",
       "</div>"
      ],
      "text/plain": [
       "   No.   Time  Fitness  Node\n",
       "0    1  21.50     0.48    13\n",
       "1    2  19.50     0.51    14\n",
       "2    3  17.48     0.50    12\n",
       "3    4  19.56     0.50    14\n",
       "4    5  20.93     0.54    14"
      ]
     },
     "execution_count": 9,
     "metadata": {},
     "output_type": "execute_result"
    }
   ],
   "source": [
    "data_cheapest = pd.read_csv(\"cheapesttesting.txt\", sep=\"\\t\", usecols=['No.','Time','Fitness','Node'])\n",
    "data_cheapest.head()"
   ]
  },
  {
   "cell_type": "code",
   "execution_count": 59,
   "metadata": {},
   "outputs": [],
   "source": [
    "df = pd.DataFrame()\n",
    "df['cuckootime'] = data_cuckoo['Time']\n",
    "df['cheapesttime'] = data_cheapest['Time']"
   ]
  },
  {
   "cell_type": "code",
   "execution_count": 60,
   "metadata": {},
   "outputs": [
    {
     "data": {
      "text/html": [
       "<div>\n",
       "<style scoped>\n",
       "    .dataframe tbody tr th:only-of-type {\n",
       "        vertical-align: middle;\n",
       "    }\n",
       "\n",
       "    .dataframe tbody tr th {\n",
       "        vertical-align: top;\n",
       "    }\n",
       "\n",
       "    .dataframe thead th {\n",
       "        text-align: right;\n",
       "    }\n",
       "</style>\n",
       "<table border=\"1\" class=\"dataframe\">\n",
       "  <thead>\n",
       "    <tr style=\"text-align: right;\">\n",
       "      <th></th>\n",
       "      <th>cuckootime</th>\n",
       "      <th>cheapesttime</th>\n",
       "    </tr>\n",
       "  </thead>\n",
       "  <tbody>\n",
       "    <tr>\n",
       "      <th>0</th>\n",
       "      <td>0.83</td>\n",
       "      <td>21.50</td>\n",
       "    </tr>\n",
       "    <tr>\n",
       "      <th>1</th>\n",
       "      <td>0.87</td>\n",
       "      <td>19.50</td>\n",
       "    </tr>\n",
       "    <tr>\n",
       "      <th>2</th>\n",
       "      <td>0.79</td>\n",
       "      <td>17.48</td>\n",
       "    </tr>\n",
       "    <tr>\n",
       "      <th>3</th>\n",
       "      <td>7.04</td>\n",
       "      <td>19.56</td>\n",
       "    </tr>\n",
       "    <tr>\n",
       "      <th>4</th>\n",
       "      <td>4.81</td>\n",
       "      <td>20.93</td>\n",
       "    </tr>\n",
       "  </tbody>\n",
       "</table>\n",
       "</div>"
      ],
      "text/plain": [
       "   cuckootime  cheapesttime\n",
       "0        0.83         21.50\n",
       "1        0.87         19.50\n",
       "2        0.79         17.48\n",
       "3        7.04         19.56\n",
       "4        4.81         20.93"
      ]
     },
     "execution_count": 60,
     "metadata": {},
     "output_type": "execute_result"
    }
   ],
   "source": [
    "df.head()"
   ]
  },
  {
   "cell_type": "code",
   "execution_count": 61,
   "metadata": {},
   "outputs": [
    {
     "data": {
      "text/plain": [
       "<AxesSubplot:>"
      ]
     },
     "execution_count": 61,
     "metadata": {},
     "output_type": "execute_result"
    },
    {
     "data": {
      "image/png": "[encoded data removed]",
      "text/plain": [
       "<Figure size 432x288 with 1 Axes>"
      ]
     },
     "metadata": {
      "needs_background": "light"
     },
     "output_type": "display_data"
    }
   ],
   "source": [
    "df.plot(kind='line')"
   ]
  },
  {
   "cell_type": "code",
   "execution_count": 62,
   "metadata": {},
   "outputs": [
    {
     "name": "stdout",
     "output_type": "stream",
     "text": [
      "[0.83, 14.34, 51.39000000000001, 94.41, 135.24, 183.23000000000002] -- [21.5, 98.97, 197.97, 283.69, 368.8, 463.20000000000005]\n"
     ]
    }
   ],
   "source": [
    "iteration = [1,5,10,15,20,25]\n",
    "cuckoo_time = []\n",
    "cuckoot = 0\n",
    "cheapest_time = []\n",
    "cheapestt = 0\n",
    "i = 1\n",
    "for index, x in df.iterrows() :\n",
    "    cuckoot += x['cuckootime']\n",
    "    cheapestt += x['cheapesttime']\n",
    "    if i == 1 or i%5==0 :\n",
    "        cuckoo_time.append(cuckoot)\n",
    "        cheapest_time.append(cheapestt)\n",
    "    i+=1\n",
    "\n",
    "print(cuckoo_time,\"--\",cheapest_time)"
   ]
  },
  {
   "cell_type": "code",
   "execution_count": null,
   "metadata": {},
   "outputs": [],
   "source": []
  },
  {
   "cell_type": "code",
   "execution_count": 71,
   "metadata": {},
   "outputs": [
    {
     "data": {
      "image/png": "[encoded data removed]",
      "text/plain": [
       "<Figure size 432x288 with 1 Axes>"
      ]
     },
     "metadata": {
      "needs_background": "light"
     },
     "output_type": "display_data"
    }
   ],
   "source": [
    "plt.plot(iteration,cuckoo_time, label=\"Cuckoo\")\n",
    "plt.plot(iteration,cheapest_time, label=\"Cheapest\")\n",
    "plt.title(\"Running Time Comparison\")\n",
    "plt.xlabel(\"number of iteration\")\n",
    "plt.ylabel(\"time (s)\")\n",
    "plt.legend()\n",
    "\n",
    "plt.savefig(\"TimeComparison.png\")\n",
    "plt.show()"
   ]
  },
  {
   "cell_type": "code",
   "execution_count": 64,
   "metadata": {},
   "outputs": [],
   "source": [
    "df_fit = pd.DataFrame()\n",
    "df_fit['cuckoofit'] = data_cuckoo['Fitness']\n",
    "df_fit['cheapestfit'] = data_cheapest['Fitness']"
   ]
  },
  {
   "cell_type": "code",
   "execution_count": 65,
   "metadata": {},
   "outputs": [
    {
     "data": {
      "text/html": [
       "<div>\n",
       "<style scoped>\n",
       "    .dataframe tbody tr th:only-of-type {\n",
       "        vertical-align: middle;\n",
       "    }\n",
       "\n",
       "    .dataframe tbody tr th {\n",
       "        vertical-align: top;\n",
       "    }\n",
       "\n",
       "    .dataframe thead th {\n",
       "        text-align: right;\n",
       "    }\n",
       "</style>\n",
       "<table border=\"1\" class=\"dataframe\">\n",
       "  <thead>\n",
       "    <tr style=\"text-align: right;\">\n",
       "      <th></th>\n",
       "      <th>cuckoofit</th>\n",
       "      <th>cheapestfit</th>\n",
       "    </tr>\n",
       "  </thead>\n",
       "  <tbody>\n",
       "    <tr>\n",
       "      <th>0</th>\n",
       "      <td>0.72</td>\n",
       "      <td>0.48</td>\n",
       "    </tr>\n",
       "    <tr>\n",
       "      <th>1</th>\n",
       "      <td>0.70</td>\n",
       "      <td>0.51</td>\n",
       "    </tr>\n",
       "    <tr>\n",
       "      <th>2</th>\n",
       "      <td>0.68</td>\n",
       "      <td>0.50</td>\n",
       "    </tr>\n",
       "    <tr>\n",
       "      <th>3</th>\n",
       "      <td>0.71</td>\n",
       "      <td>0.50</td>\n",
       "    </tr>\n",
       "    <tr>\n",
       "      <th>4</th>\n",
       "      <td>0.71</td>\n",
       "      <td>0.54</td>\n",
       "    </tr>\n",
       "  </tbody>\n",
       "</table>\n",
       "</div>"
      ],
      "text/plain": [
       "   cuckoofit  cheapestfit\n",
       "0       0.72         0.48\n",
       "1       0.70         0.51\n",
       "2       0.68         0.50\n",
       "3       0.71         0.50\n",
       "4       0.71         0.54"
      ]
     },
     "execution_count": 65,
     "metadata": {},
     "output_type": "execute_result"
    }
   ],
   "source": [
    "df_fit.head()"
   ]
  },
  {
   "cell_type": "code",
   "execution_count": 66,
   "metadata": {},
   "outputs": [
    {
     "name": "stdout",
     "output_type": "stream",
     "text": [
      "[0.72, 0.68, 0.68, 0.68, 0.67, 0.65] -- [0.48, 0.48, 0.48, 0.48, 0.47, 0.47]\n"
     ]
    }
   ],
   "source": [
    "iteration = [1,5,10,15,20,25]\n",
    "cuckoo_fit = []\n",
    "cuckoof = 999\n",
    "cheapest_fit = []\n",
    "cheapestf = 999\n",
    "i = 1\n",
    "for index, x in df_fit.iterrows() :\n",
    "    if cuckoof > x['cuckoofit'] :\n",
    "        cuckoof = x['cuckoofit']\n",
    "    if cheapestf > x['cheapestfit'] :\n",
    "        cheapestf = x['cheapestfit']\n",
    "    if i == 1 or i%5==0 :\n",
    "        cuckoo_fit.append(cuckoof)\n",
    "        cheapest_fit.append(cheapestf)\n",
    "    i+=1\n",
    "\n",
    "print(cuckoo_fit,\"--\",cheapest_fit)"
   ]
  },
  {
   "cell_type": "code",
   "execution_count": 72,
   "metadata": {},
   "outputs": [
    {
     "data": {
      "image/png": "[encoded data removed]",
      "text/plain": [
       "<Figure size 432x288 with 1 Axes>"
      ]
     },
     "metadata": {
      "needs_background": "light"
     },
     "output_type": "display_data"
    }
   ],
   "source": [
    "plt.plot(iteration,cuckoo_fit, label=\"Cuckoo\")\n",
    "plt.plot(iteration,cheapest_fit, label=\"Cheapest\")\n",
    "plt.title(\"Fitness Score Comparison\")\n",
    "plt.xlabel(\"number of iteration\")\n",
    "plt.ylabel(\"fitness score\")\n",
    "plt.legend()\n",
    "\n",
    "plt.savefig(\"FitnessComparison.png\")\n",
    "plt.show()"
   ]
  },
  {
   "cell_type": "code",
   "execution_count": 68,
   "metadata": {},
   "outputs": [],
   "source": [
    "df_node = pd.DataFrame()\n",
    "df_node['cuckoonode'] = data_cuckoo['Node']\n",
    "df_node['cheapestnode'] = data_cheapest['Node']"
   ]
  },
  {
   "cell_type": "code",
   "execution_count": 69,
   "metadata": {},
   "outputs": [
    {
     "name": "stdout",
     "output_type": "stream",
     "text": [
      "[12.0, 12.2, 12.3, 12.266666666666667, 12.4, 12.44] -- [13.0, 13.4, 13.5, 13.4, 13.3, 13.24]\n"
     ]
    }
   ],
   "source": [
    "iteration = [1,5,10,15,20,25]\n",
    "cuckoo_node = []\n",
    "cuckoon = 0\n",
    "cheapest_node = []\n",
    "cheapestn = 0\n",
    "i = 1\n",
    "for index, x in df_node.iterrows() :\n",
    "    cuckoon += x['cuckoonode']\n",
    "    cheapestn += x['cheapestnode']\n",
    "    if i == 1 or i%5==0 :\n",
    "        cuckoo_node.append(cuckoon/i)\n",
    "        cheapest_node.append(cheapestn/i)\n",
    "    i+=1\n",
    "\n",
    "print(cuckoo_node,\"--\",cheapest_node)"
   ]
  },
  {
   "cell_type": "code",
   "execution_count": 73,
   "metadata": {},
   "outputs": [
    {
     "data": {
      "image/png": "[encoded data removed]",
      "text/plain": [
       "<Figure size 432x288 with 1 Axes>"
      ]
     },
     "metadata": {
      "needs_background": "light"
     },
     "output_type": "display_data"
    }
   ],
   "source": [
    "plt.plot(iteration,cuckoo_node, label=\"Cuckoo\")\n",
    "plt.plot(iteration,cheapest_node, label=\"Cheapest\")\n",
    "plt.title(\"Number of Node Comparison (Average)\")\n",
    "plt.xlabel(\"number of iteration\")\n",
    "plt.ylabel(\"Node visited average\")\n",
    "plt.legend()\n",
    "\n",
    "plt.savefig(\"NodeAvgComparison.png\")\n",
    "plt.show()"
   ]
  },
  {
   "cell_type": "code",
   "execution_count": null,
   "metadata": {},
   "outputs": [],
   "source": []
  }
 ],
 "metadata": {
  "kernelspec": {
   "display_name": "Python 3",
   "language": "python",
   "name": "python3"
  },
  "language_info": {
   "codemirror_mode": {
    "name": "ipython",
    "version": 3
   },
   "file_extension": ".py",
   "mimetype": "text/x-python",
   "name": "python",
   "nbconvert_exporter": "python",
   "pygments_lexer": "ipython3",
   "version": "3.8.3"
  }
 },
 "nbformat": 4,
 "nbformat_minor": 4
}
